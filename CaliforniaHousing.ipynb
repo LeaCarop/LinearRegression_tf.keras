{
  "nbformat": 4,
  "nbformat_minor": 0,
  "metadata": {
    "colab": {
      "name": "Untitled1.ipynb",
      "provenance": [],
      "authorship_tag": "ABX9TyMB7EmKt7xEVFTGyoV1LnH8",
      "include_colab_link": true
    },
    "kernelspec": {
      "name": "python3",
      "display_name": "Python 3"
    },
    "language_info": {
      "name": "python"
    }
  },
  "cells": [
    {
      "cell_type": "markdown",
      "metadata": {
        "id": "view-in-github",
        "colab_type": "text"
      },
      "source": [
        "<a href=\"https://colab.research.google.com/github/LeaCarop/LinearRegression_tf.keras/blob/main/CaliforniaHousing.ipynb\" target=\"_parent\"><img src=\"https://colab.research.google.com/assets/colab-badge.svg\" alt=\"Open In Colab\"/></a>"
      ]
    },
    {
      "cell_type": "markdown",
      "source": [
        "**CALIFORNIA HOUSING DATASET**"
      ],
      "metadata": {
        "id": "FiGM_XDmOLsk"
      }
    },
    {
      "cell_type": "code",
      "execution_count": 28,
      "metadata": {
        "id": "a1PsM2vFOGyV"
      },
      "outputs": [],
      "source": [
        "import numpy as np\n",
        "import pandas as pd\n",
        "import tensorflow as tf\n",
        "from matplotlib import pyplot as plt"
      ]
    },
    {
      "cell_type": "code",
      "source": [
        "train_df = pd.read_csv(\"https://download.mlcc.google.com/mledu-datasets/california_housing_train.csv\")\n",
        "test_df = pd.read_csv(\"https://download.mlcc.google.com/mledu-datasets/california_housing_test.csv\")"
      ],
      "metadata": {
        "id": "fgMz4UJROmYW"
      },
      "execution_count": 29,
      "outputs": []
    },
    {
      "cell_type": "code",
      "source": [
        "scale_factor = 1000\n",
        "\n",
        "train_df['median_house_value'] /= scale_factor\n",
        "test_df['median_house_value'] /= scale_factor"
      ],
      "metadata": {
        "id": "05npzeDZO51D"
      },
      "execution_count": 30,
      "outputs": []
    },
    {
      "cell_type": "code",
      "source": [
        "train_df.head()"
      ],
      "metadata": {
        "colab": {
          "base_uri": "https://localhost:8080/",
          "height": 206
        },
        "id": "boeHMdb5PTbp",
        "outputId": "f23f7b77-f8ea-4920-dada-002f9978ba2f"
      },
      "execution_count": 18,
      "outputs": [
        {
          "output_type": "execute_result",
          "data": {
            "text/html": [
              "\n",
              "  <div id=\"df-0998419d-f8bc-45d9-a9c9-7f7814a4e342\">\n",
              "    <div class=\"colab-df-container\">\n",
              "      <div>\n",
              "<style scoped>\n",
              "    .dataframe tbody tr th:only-of-type {\n",
              "        vertical-align: middle;\n",
              "    }\n",
              "\n",
              "    .dataframe tbody tr th {\n",
              "        vertical-align: top;\n",
              "    }\n",
              "\n",
              "    .dataframe thead th {\n",
              "        text-align: right;\n",
              "    }\n",
              "</style>\n",
              "<table border=\"1\" class=\"dataframe\">\n",
              "  <thead>\n",
              "    <tr style=\"text-align: right;\">\n",
              "      <th></th>\n",
              "      <th>longitude</th>\n",
              "      <th>latitude</th>\n",
              "      <th>housing_median_age</th>\n",
              "      <th>total_rooms</th>\n",
              "      <th>total_bedrooms</th>\n",
              "      <th>population</th>\n",
              "      <th>households</th>\n",
              "      <th>median_income</th>\n",
              "      <th>median_house_value</th>\n",
              "    </tr>\n",
              "  </thead>\n",
              "  <tbody>\n",
              "    <tr>\n",
              "      <th>0</th>\n",
              "      <td>-114.31</td>\n",
              "      <td>34.19</td>\n",
              "      <td>15.0</td>\n",
              "      <td>5612.0</td>\n",
              "      <td>1283.0</td>\n",
              "      <td>1015.0</td>\n",
              "      <td>472.0</td>\n",
              "      <td>1.4936</td>\n",
              "      <td>66.9</td>\n",
              "    </tr>\n",
              "    <tr>\n",
              "      <th>1</th>\n",
              "      <td>-114.47</td>\n",
              "      <td>34.40</td>\n",
              "      <td>19.0</td>\n",
              "      <td>7650.0</td>\n",
              "      <td>1901.0</td>\n",
              "      <td>1129.0</td>\n",
              "      <td>463.0</td>\n",
              "      <td>1.8200</td>\n",
              "      <td>80.1</td>\n",
              "    </tr>\n",
              "    <tr>\n",
              "      <th>2</th>\n",
              "      <td>-114.56</td>\n",
              "      <td>33.69</td>\n",
              "      <td>17.0</td>\n",
              "      <td>720.0</td>\n",
              "      <td>174.0</td>\n",
              "      <td>333.0</td>\n",
              "      <td>117.0</td>\n",
              "      <td>1.6509</td>\n",
              "      <td>85.7</td>\n",
              "    </tr>\n",
              "    <tr>\n",
              "      <th>3</th>\n",
              "      <td>-114.57</td>\n",
              "      <td>33.64</td>\n",
              "      <td>14.0</td>\n",
              "      <td>1501.0</td>\n",
              "      <td>337.0</td>\n",
              "      <td>515.0</td>\n",
              "      <td>226.0</td>\n",
              "      <td>3.1917</td>\n",
              "      <td>73.4</td>\n",
              "    </tr>\n",
              "    <tr>\n",
              "      <th>4</th>\n",
              "      <td>-114.57</td>\n",
              "      <td>33.57</td>\n",
              "      <td>20.0</td>\n",
              "      <td>1454.0</td>\n",
              "      <td>326.0</td>\n",
              "      <td>624.0</td>\n",
              "      <td>262.0</td>\n",
              "      <td>1.9250</td>\n",
              "      <td>65.5</td>\n",
              "    </tr>\n",
              "  </tbody>\n",
              "</table>\n",
              "</div>\n",
              "      <button class=\"colab-df-convert\" onclick=\"convertToInteractive('df-0998419d-f8bc-45d9-a9c9-7f7814a4e342')\"\n",
              "              title=\"Convert this dataframe to an interactive table.\"\n",
              "              style=\"display:none;\">\n",
              "        \n",
              "  <svg xmlns=\"http://www.w3.org/2000/svg\" height=\"24px\"viewBox=\"0 0 24 24\"\n",
              "       width=\"24px\">\n",
              "    <path d=\"M0 0h24v24H0V0z\" fill=\"none\"/>\n",
              "    <path d=\"M18.56 5.44l.94 2.06.94-2.06 2.06-.94-2.06-.94-.94-2.06-.94 2.06-2.06.94zm-11 1L8.5 8.5l.94-2.06 2.06-.94-2.06-.94L8.5 2.5l-.94 2.06-2.06.94zm10 10l.94 2.06.94-2.06 2.06-.94-2.06-.94-.94-2.06-.94 2.06-2.06.94z\"/><path d=\"M17.41 7.96l-1.37-1.37c-.4-.4-.92-.59-1.43-.59-.52 0-1.04.2-1.43.59L10.3 9.45l-7.72 7.72c-.78.78-.78 2.05 0 2.83L4 21.41c.39.39.9.59 1.41.59.51 0 1.02-.2 1.41-.59l7.78-7.78 2.81-2.81c.8-.78.8-2.07 0-2.86zM5.41 20L4 18.59l7.72-7.72 1.47 1.35L5.41 20z\"/>\n",
              "  </svg>\n",
              "      </button>\n",
              "      \n",
              "  <style>\n",
              "    .colab-df-container {\n",
              "      display:flex;\n",
              "      flex-wrap:wrap;\n",
              "      gap: 12px;\n",
              "    }\n",
              "\n",
              "    .colab-df-convert {\n",
              "      background-color: #E8F0FE;\n",
              "      border: none;\n",
              "      border-radius: 50%;\n",
              "      cursor: pointer;\n",
              "      display: none;\n",
              "      fill: #1967D2;\n",
              "      height: 32px;\n",
              "      padding: 0 0 0 0;\n",
              "      width: 32px;\n",
              "    }\n",
              "\n",
              "    .colab-df-convert:hover {\n",
              "      background-color: #E2EBFA;\n",
              "      box-shadow: 0px 1px 2px rgba(60, 64, 67, 0.3), 0px 1px 3px 1px rgba(60, 64, 67, 0.15);\n",
              "      fill: #174EA6;\n",
              "    }\n",
              "\n",
              "    [theme=dark] .colab-df-convert {\n",
              "      background-color: #3B4455;\n",
              "      fill: #D2E3FC;\n",
              "    }\n",
              "\n",
              "    [theme=dark] .colab-df-convert:hover {\n",
              "      background-color: #434B5C;\n",
              "      box-shadow: 0px 1px 3px 1px rgba(0, 0, 0, 0.15);\n",
              "      filter: drop-shadow(0px 1px 2px rgba(0, 0, 0, 0.3));\n",
              "      fill: #FFFFFF;\n",
              "    }\n",
              "  </style>\n",
              "\n",
              "      <script>\n",
              "        const buttonEl =\n",
              "          document.querySelector('#df-0998419d-f8bc-45d9-a9c9-7f7814a4e342 button.colab-df-convert');\n",
              "        buttonEl.style.display =\n",
              "          google.colab.kernel.accessAllowed ? 'block' : 'none';\n",
              "\n",
              "        async function convertToInteractive(key) {\n",
              "          const element = document.querySelector('#df-0998419d-f8bc-45d9-a9c9-7f7814a4e342');\n",
              "          const dataTable =\n",
              "            await google.colab.kernel.invokeFunction('convertToInteractive',\n",
              "                                                     [key], {});\n",
              "          if (!dataTable) return;\n",
              "\n",
              "          const docLinkHtml = 'Like what you see? Visit the ' +\n",
              "            '<a target=\"_blank\" href=https://colab.research.google.com/notebooks/data_table.ipynb>data table notebook</a>'\n",
              "            + ' to learn more about interactive tables.';\n",
              "          element.innerHTML = '';\n",
              "          dataTable['output_type'] = 'display_data';\n",
              "          await google.colab.output.renderOutput(dataTable, element);\n",
              "          const docLink = document.createElement('div');\n",
              "          docLink.innerHTML = docLinkHtml;\n",
              "          element.appendChild(docLink);\n",
              "        }\n",
              "      </script>\n",
              "    </div>\n",
              "  </div>\n",
              "  "
            ],
            "text/plain": [
              "   longitude  latitude  housing_median_age  total_rooms  total_bedrooms  \\\n",
              "0    -114.31     34.19                15.0       5612.0          1283.0   \n",
              "1    -114.47     34.40                19.0       7650.0          1901.0   \n",
              "2    -114.56     33.69                17.0        720.0           174.0   \n",
              "3    -114.57     33.64                14.0       1501.0           337.0   \n",
              "4    -114.57     33.57                20.0       1454.0           326.0   \n",
              "\n",
              "   population  households  median_income  median_house_value  \n",
              "0      1015.0       472.0         1.4936                66.9  \n",
              "1      1129.0       463.0         1.8200                80.1  \n",
              "2       333.0       117.0         1.6509                85.7  \n",
              "3       515.0       226.0         3.1917                73.4  \n",
              "4       624.0       262.0         1.9250                65.5  "
            ]
          },
          "metadata": {},
          "execution_count": 18
        }
      ]
    },
    {
      "cell_type": "code",
      "source": [
        "def build_model(my_learning_rate):\n",
        "\n",
        "  model = tf.keras.models.Sequential()\n",
        "\n",
        "  model.add(tf.keras.layers.Dense(units=1, input_shape=(1,)))\n",
        "\n",
        "  model.compile(optimizer=tf.keras.optimizers.RMSprop(lr=my_learning_rate),\n",
        "                loss=\"mean_squared_error\",\n",
        "                metrics=[tf.keras.metrics.RootMeanSquaredError()])\n",
        "\n",
        "  return model               \n",
        "\n",
        "\n",
        "def train_model(model, df, feature, label, my_epochs, \n",
        "                my_batch_size=None, my_validation_split=0.1):\n",
        "\n",
        "  history = model.fit(x=df[feature],\n",
        "                      y=df[label],\n",
        "                      batch_size=my_batch_size,\n",
        "                      epochs=my_epochs,\n",
        "                      validation_split=my_validation_split)\n",
        "\n",
        "  trained_weight = model.get_weights()[0]\n",
        "  trained_bias = model.get_weights()[1]\n",
        "\n",
        "  epochs = history.epoch\n",
        "  \n",
        "  hist = pd.DataFrame(history.history)\n",
        "  rmse = hist[\"root_mean_squared_error\"]\n",
        "\n",
        "  return epochs, rmse, history.history   \n"
      ],
      "metadata": {
        "id": "_NnmjnIyPjRb"
      },
      "execution_count": 31,
      "outputs": []
    },
    {
      "cell_type": "code",
      "source": [
        "def plot_the_loss_curve(epochs, mae_training, mae_validation):\n",
        "\n",
        "  plt.figure()\n",
        "  plt.xlabel(\"Epoch\")\n",
        "  plt.ylabel(\"Root Mean Squared Error\")\n",
        "\n",
        "  plt.plot(epochs[1:], mae_training[1:], label=\"Training Loss\")\n",
        "  plt.plot(epochs[1:], mae_validation[1:], label=\"Validation Loss\")\n",
        "  plt.legend()\n",
        "  \n",
        "  merged_mae_lists = mae_training[1:] + mae_validation[1:]\n",
        "  highest_loss = max(merged_mae_lists)\n",
        "  lowest_loss = min(merged_mae_lists)\n",
        "  delta = highest_loss - lowest_loss\n",
        "  print(delta)\n",
        "\n",
        "  top_of_y_axis = highest_loss + (delta * 0.05)\n",
        "  bottom_of_y_axis = lowest_loss - (delta * 0.05)\n",
        "   \n",
        "  plt.ylim([bottom_of_y_axis, top_of_y_axis])\n",
        "  plt.show()  "
      ],
      "metadata": {
        "id": "bkkMebABQciE"
      },
      "execution_count": 32,
      "outputs": []
    },
    {
      "cell_type": "code",
      "source": [
        "learning_rate = 0.08\n",
        "epochs = 30\n",
        "batch_size = 100\n",
        "\n",
        "validation_split = 0.2\n",
        "\n",
        "my_feature = \"median_income\"   \n",
        "my_label = \"median_house_value\"\n",
        "\n",
        "my_model = None\n",
        "\n",
        "my_model = build_model(learning_rate)\n",
        "epochs, rmse, history = train_model(my_model, train_df, my_feature, \n",
        "                                    my_label, epochs, batch_size, \n",
        "                                    validation_split)\n",
        "\n",
        "plot_the_loss_curve(epochs, history[\"root_mean_squared_error\"], \n",
        "                    history[\"val_root_mean_squared_error\"])"
      ],
      "metadata": {
        "colab": {
          "base_uri": "https://localhost:8080/",
          "height": 1000
        },
        "id": "QjStxLy5Veh_",
        "outputId": "fb37dc93-e84a-416c-d5f4-d0bb929174a7"
      },
      "execution_count": 34,
      "outputs": [
        {
          "output_type": "stream",
          "name": "stdout",
          "text": [
            "Epoch 1/30\n"
          ]
        },
        {
          "output_type": "stream",
          "name": "stderr",
          "text": [
            "/usr/local/lib/python3.7/dist-packages/keras/optimizer_v2/rmsprop.py:130: UserWarning: The `lr` argument is deprecated, use `learning_rate` instead.\n",
            "  super(RMSprop, self).__init__(name, **kwargs)\n"
          ]
        },
        {
          "output_type": "stream",
          "name": "stdout",
          "text": [
            "136/136 [==============================] - 1s 3ms/step - loss: 38955.4766 - root_mean_squared_error: 197.3714 - val_loss: 47250.5195 - val_root_mean_squared_error: 217.3718\n",
            "Epoch 2/30\n",
            "136/136 [==============================] - 0s 2ms/step - loss: 22340.6816 - root_mean_squared_error: 149.4680 - val_loss: 27573.3828 - val_root_mean_squared_error: 166.0523\n",
            "Epoch 3/30\n",
            "136/136 [==============================] - 0s 2ms/step - loss: 11837.7139 - root_mean_squared_error: 108.8013 - val_loss: 14867.0098 - val_root_mean_squared_error: 121.9304\n",
            "Epoch 4/30\n",
            "136/136 [==============================] - 0s 2ms/step - loss: 7141.2349 - root_mean_squared_error: 84.5058 - val_loss: 9476.9834 - val_root_mean_squared_error: 97.3498\n",
            "Epoch 5/30\n",
            "136/136 [==============================] - 0s 2ms/step - loss: 6511.9102 - root_mean_squared_error: 80.6964 - val_loss: 9216.9375 - val_root_mean_squared_error: 96.0049\n",
            "Epoch 6/30\n",
            "136/136 [==============================] - 0s 2ms/step - loss: 6513.7075 - root_mean_squared_error: 80.7075 - val_loss: 9217.4561 - val_root_mean_squared_error: 96.0076\n",
            "Epoch 7/30\n",
            "136/136 [==============================] - 0s 2ms/step - loss: 6514.2305 - root_mean_squared_error: 80.7108 - val_loss: 9258.6133 - val_root_mean_squared_error: 96.2217\n",
            "Epoch 8/30\n",
            "136/136 [==============================] - 0s 2ms/step - loss: 6513.6401 - root_mean_squared_error: 80.7071 - val_loss: 9387.5850 - val_root_mean_squared_error: 96.8895\n",
            "Epoch 9/30\n",
            "136/136 [==============================] - 0s 2ms/step - loss: 6513.7681 - root_mean_squared_error: 80.7079 - val_loss: 9267.9531 - val_root_mean_squared_error: 96.2702\n",
            "Epoch 10/30\n",
            "136/136 [==============================] - 0s 2ms/step - loss: 6513.5771 - root_mean_squared_error: 80.7067 - val_loss: 9305.0820 - val_root_mean_squared_error: 96.4629\n",
            "Epoch 11/30\n",
            "136/136 [==============================] - 0s 2ms/step - loss: 6513.9219 - root_mean_squared_error: 80.7089 - val_loss: 9294.1523 - val_root_mean_squared_error: 96.4062\n",
            "Epoch 12/30\n",
            "136/136 [==============================] - 0s 2ms/step - loss: 6513.6489 - root_mean_squared_error: 80.7072 - val_loss: 9267.5488 - val_root_mean_squared_error: 96.2681\n",
            "Epoch 13/30\n",
            "136/136 [==============================] - 0s 2ms/step - loss: 6512.3110 - root_mean_squared_error: 80.6989 - val_loss: 9328.0068 - val_root_mean_squared_error: 96.5816\n",
            "Epoch 14/30\n",
            "136/136 [==============================] - 0s 2ms/step - loss: 6514.0464 - root_mean_squared_error: 80.7096 - val_loss: 9274.0967 - val_root_mean_squared_error: 96.3021\n",
            "Epoch 15/30\n",
            "136/136 [==============================] - 0s 2ms/step - loss: 6513.2983 - root_mean_squared_error: 80.7050 - val_loss: 9275.9268 - val_root_mean_squared_error: 96.3116\n",
            "Epoch 16/30\n",
            "136/136 [==============================] - 0s 2ms/step - loss: 6513.3218 - root_mean_squared_error: 80.7052 - val_loss: 9293.2783 - val_root_mean_squared_error: 96.4016\n",
            "Epoch 17/30\n",
            "136/136 [==============================] - 0s 2ms/step - loss: 6513.4761 - root_mean_squared_error: 80.7061 - val_loss: 9310.0674 - val_root_mean_squared_error: 96.4887\n",
            "Epoch 18/30\n",
            "136/136 [==============================] - 0s 2ms/step - loss: 6512.3765 - root_mean_squared_error: 80.6993 - val_loss: 9102.3545 - val_root_mean_squared_error: 95.4063\n",
            "Epoch 19/30\n",
            "136/136 [==============================] - 0s 2ms/step - loss: 6513.3223 - root_mean_squared_error: 80.7052 - val_loss: 9393.0693 - val_root_mean_squared_error: 96.9178\n",
            "Epoch 20/30\n",
            "136/136 [==============================] - 0s 2ms/step - loss: 6512.4634 - root_mean_squared_error: 80.6998 - val_loss: 9142.6895 - val_root_mean_squared_error: 95.6174\n",
            "Epoch 21/30\n",
            "136/136 [==============================] - 0s 2ms/step - loss: 6512.7554 - root_mean_squared_error: 80.7016 - val_loss: 9071.3975 - val_root_mean_squared_error: 95.2439\n",
            "Epoch 22/30\n",
            "136/136 [==============================] - 0s 2ms/step - loss: 6514.2192 - root_mean_squared_error: 80.7107 - val_loss: 9308.6221 - val_root_mean_squared_error: 96.4812\n",
            "Epoch 23/30\n",
            "136/136 [==============================] - 0s 2ms/step - loss: 6513.4600 - root_mean_squared_error: 80.7060 - val_loss: 9391.4854 - val_root_mean_squared_error: 96.9097\n",
            "Epoch 24/30\n",
            "136/136 [==============================] - 0s 2ms/step - loss: 6514.4795 - root_mean_squared_error: 80.7123 - val_loss: 9284.6416 - val_root_mean_squared_error: 96.3568\n",
            "Epoch 25/30\n",
            "136/136 [==============================] - 0s 2ms/step - loss: 6512.6504 - root_mean_squared_error: 80.7010 - val_loss: 9321.0342 - val_root_mean_squared_error: 96.5455\n",
            "Epoch 26/30\n",
            "136/136 [==============================] - 0s 2ms/step - loss: 6512.8066 - root_mean_squared_error: 80.7020 - val_loss: 9376.6455 - val_root_mean_squared_error: 96.8331\n",
            "Epoch 27/30\n",
            "136/136 [==============================] - 0s 2ms/step - loss: 6514.7378 - root_mean_squared_error: 80.7139 - val_loss: 9342.7285 - val_root_mean_squared_error: 96.6578\n",
            "Epoch 28/30\n",
            "136/136 [==============================] - 0s 2ms/step - loss: 6514.4170 - root_mean_squared_error: 80.7119 - val_loss: 9299.0059 - val_root_mean_squared_error: 96.4314\n",
            "Epoch 29/30\n",
            "136/136 [==============================] - 0s 2ms/step - loss: 6513.8467 - root_mean_squared_error: 80.7084 - val_loss: 9197.6133 - val_root_mean_squared_error: 95.9042\n",
            "Epoch 30/30\n",
            "136/136 [==============================] - 0s 2ms/step - loss: 6514.2393 - root_mean_squared_error: 80.7108 - val_loss: 9278.9375 - val_root_mean_squared_error: 96.3272\n",
            "85.35592651367188\n"
          ]
        },
        {
          "output_type": "display_data",
          "data": {
            "image/png": "[encoded data removed]",
            "text/plain": [
              "<Figure size 432x288 with 1 Axes>"
            ]
          },
          "metadata": {
            "needs_background": "light"
          }
        }
      ]
    },
    {
      "cell_type": "markdown",
      "source": [
        "Las curvas de entrenamiento y test difieren significativamente. \n",
        "\n",
        "Para solucionarlo voy realizar dos pasos: \n",
        "\n",
        "- Revolver los datos en el conjunto de entrenamiento agregando shuffled_train_df\n",
        "- Pasar el nuevo argumento a train model"
      ],
      "metadata": {
        "id": "4I0snavuY3_L"
      }
    },
    {
      "cell_type": "code",
      "source": [
        "learning_rate = 0.08\n",
        "epochs = 70\n",
        "batch_size = 100\n",
        "\n",
        "validation_split = 0.2\n",
        "\n",
        "my_feature = \"median_income\"   \n",
        "my_label = \"median_house_value\"\n",
        "\n",
        "my_model = None\n",
        "\n",
        "shuffled_train_df = train_df.reindex(np.random.permutation(train_df.index)) # PASO 1\n",
        "\n",
        "my_model = build_model(learning_rate)\n",
        "epochs, rmse, history = train_model(my_model, shuffled_train_df, my_feature,  # PASO 2\n",
        "                                    my_label, epochs, batch_size, \n",
        "                                    validation_split)\n",
        "\n",
        "plot_the_loss_curve(epochs, history[\"root_mean_squared_error\"], \n",
        "                    history[\"val_root_mean_squared_error\"])"
      ],
      "metadata": {
        "colab": {
          "base_uri": "https://localhost:8080/",
          "height": 1000
        },
        "id": "Kgke54YiZcxy",
        "outputId": "a0b310a4-8730-4e47-82e9-2c59b53cd45f"
      },
      "execution_count": 36,
      "outputs": [
        {
          "output_type": "stream",
          "name": "stdout",
          "text": [
            "Epoch 1/70\n"
          ]
        },
        {
          "output_type": "stream",
          "name": "stderr",
          "text": [
            "/usr/local/lib/python3.7/dist-packages/keras/optimizer_v2/rmsprop.py:130: UserWarning: The `lr` argument is deprecated, use `learning_rate` instead.\n",
            "  super(RMSprop, self).__init__(name, **kwargs)\n"
          ]
        },
        {
          "output_type": "stream",
          "name": "stdout",
          "text": [
            "136/136 [==============================] - 1s 3ms/step - loss: 46178.3359 - root_mean_squared_error: 214.8914 - val_loss: 33919.3281 - val_root_mean_squared_error: 184.1720\n",
            "Epoch 2/70\n",
            "136/136 [==============================] - 0s 2ms/step - loss: 27350.3887 - root_mean_squared_error: 165.3795 - val_loss: 18901.6113 - val_root_mean_squared_error: 137.4831\n",
            "Epoch 3/70\n",
            "136/136 [==============================] - 0s 2ms/step - loss: 14748.9248 - root_mean_squared_error: 121.4452 - val_loss: 9957.8945 - val_root_mean_squared_error: 99.7893\n",
            "Epoch 4/70\n",
            "136/136 [==============================] - 0s 2ms/step - loss: 8390.8369 - root_mean_squared_error: 91.6015 - val_loss: 6914.1431 - val_root_mean_squared_error: 83.1513\n",
            "Epoch 5/70\n",
            "136/136 [==============================] - 0s 2ms/step - loss: 7069.8130 - root_mean_squared_error: 84.0822 - val_loss: 6855.4175 - val_root_mean_squared_error: 82.7974\n",
            "Epoch 6/70\n",
            "136/136 [==============================] - 0s 2ms/step - loss: 7050.4980 - root_mean_squared_error: 83.9672 - val_loss: 6864.1836 - val_root_mean_squared_error: 82.8504\n",
            "Epoch 7/70\n",
            "136/136 [==============================] - 0s 2ms/step - loss: 7053.8726 - root_mean_squared_error: 83.9873 - val_loss: 6864.8560 - val_root_mean_squared_error: 82.8544\n",
            "Epoch 8/70\n",
            "136/136 [==============================] - 0s 2ms/step - loss: 7054.4565 - root_mean_squared_error: 83.9908 - val_loss: 6861.4575 - val_root_mean_squared_error: 82.8339\n",
            "Epoch 9/70\n",
            "136/136 [==============================] - 0s 2ms/step - loss: 7053.7505 - root_mean_squared_error: 83.9866 - val_loss: 6865.4058 - val_root_mean_squared_error: 82.8577\n",
            "Epoch 10/70\n",
            "136/136 [==============================] - 0s 2ms/step - loss: 7053.1187 - root_mean_squared_error: 83.9828 - val_loss: 6853.6060 - val_root_mean_squared_error: 82.7865\n",
            "Epoch 11/70\n",
            "136/136 [==============================] - 0s 2ms/step - loss: 7053.8267 - root_mean_squared_error: 83.9871 - val_loss: 6866.9482 - val_root_mean_squared_error: 82.8671\n",
            "Epoch 12/70\n",
            "136/136 [==============================] - 0s 2ms/step - loss: 7053.0317 - root_mean_squared_error: 83.9823 - val_loss: 6858.0498 - val_root_mean_squared_error: 82.8133\n",
            "Epoch 13/70\n",
            "136/136 [==============================] - 0s 2ms/step - loss: 7053.8105 - root_mean_squared_error: 83.9870 - val_loss: 6863.8345 - val_root_mean_squared_error: 82.8483\n",
            "Epoch 14/70\n",
            "136/136 [==============================] - 0s 2ms/step - loss: 7053.9199 - root_mean_squared_error: 83.9876 - val_loss: 6859.5479 - val_root_mean_squared_error: 82.8224\n",
            "Epoch 15/70\n",
            "136/136 [==============================] - 0s 2ms/step - loss: 7053.8394 - root_mean_squared_error: 83.9871 - val_loss: 6860.4717 - val_root_mean_squared_error: 82.8280\n",
            "Epoch 16/70\n",
            "136/136 [==============================] - 0s 2ms/step - loss: 7051.3701 - root_mean_squared_error: 83.9724 - val_loss: 6856.5913 - val_root_mean_squared_error: 82.8045\n",
            "Epoch 17/70\n",
            "136/136 [==============================] - 0s 2ms/step - loss: 7053.0830 - root_mean_squared_error: 83.9826 - val_loss: 6864.8994 - val_root_mean_squared_error: 82.8547\n",
            "Epoch 18/70\n",
            "136/136 [==============================] - 0s 2ms/step - loss: 7053.7251 - root_mean_squared_error: 83.9865 - val_loss: 6855.4565 - val_root_mean_squared_error: 82.7977\n",
            "Epoch 19/70\n",
            "136/136 [==============================] - 0s 2ms/step - loss: 7053.8926 - root_mean_squared_error: 83.9875 - val_loss: 6861.5757 - val_root_mean_squared_error: 82.8346\n",
            "Epoch 20/70\n",
            "136/136 [==============================] - 0s 2ms/step - loss: 7052.9946 - root_mean_squared_error: 83.9821 - val_loss: 6875.0737 - val_root_mean_squared_error: 82.9161\n",
            "Epoch 21/70\n",
            "136/136 [==============================] - 0s 2ms/step - loss: 7053.0342 - root_mean_squared_error: 83.9823 - val_loss: 6884.6382 - val_root_mean_squared_error: 82.9737\n",
            "Epoch 22/70\n",
            "136/136 [==============================] - 0s 2ms/step - loss: 7055.1089 - root_mean_squared_error: 83.9947 - val_loss: 6868.0205 - val_root_mean_squared_error: 82.8735\n",
            "Epoch 23/70\n",
            "136/136 [==============================] - 0s 2ms/step - loss: 7052.6558 - root_mean_squared_error: 83.9801 - val_loss: 6860.4541 - val_root_mean_squared_error: 82.8279\n",
            "Epoch 24/70\n",
            "136/136 [==============================] - 0s 2ms/step - loss: 7051.7534 - root_mean_squared_error: 83.9747 - val_loss: 6872.0664 - val_root_mean_squared_error: 82.8979\n",
            "Epoch 25/70\n",
            "136/136 [==============================] - 0s 2ms/step - loss: 7054.4604 - root_mean_squared_error: 83.9908 - val_loss: 6858.2124 - val_root_mean_squared_error: 82.8143\n",
            "Epoch 26/70\n",
            "136/136 [==============================] - 0s 2ms/step - loss: 7052.4521 - root_mean_squared_error: 83.9789 - val_loss: 6866.5049 - val_root_mean_squared_error: 82.8644\n",
            "Epoch 27/70\n",
            "136/136 [==============================] - 0s 2ms/step - loss: 7054.7148 - root_mean_squared_error: 83.9923 - val_loss: 6861.4736 - val_root_mean_squared_error: 82.8340\n",
            "Epoch 28/70\n",
            "136/136 [==============================] - 0s 2ms/step - loss: 7053.0288 - root_mean_squared_error: 83.9823 - val_loss: 6859.2148 - val_root_mean_squared_error: 82.8204\n",
            "Epoch 29/70\n",
            "136/136 [==============================] - 0s 2ms/step - loss: 7053.6704 - root_mean_squared_error: 83.9861 - val_loss: 6863.7090 - val_root_mean_squared_error: 82.8475\n",
            "Epoch 30/70\n",
            "136/136 [==============================] - 0s 2ms/step - loss: 7052.4043 - root_mean_squared_error: 83.9786 - val_loss: 6859.3228 - val_root_mean_squared_error: 82.8210\n",
            "Epoch 31/70\n",
            "136/136 [==============================] - 0s 2ms/step - loss: 7052.5957 - root_mean_squared_error: 83.9797 - val_loss: 6857.7622 - val_root_mean_squared_error: 82.8116\n",
            "Epoch 32/70\n",
            "136/136 [==============================] - 0s 2ms/step - loss: 7051.5718 - root_mean_squared_error: 83.9736 - val_loss: 6874.9546 - val_root_mean_squared_error: 82.9153\n",
            "Epoch 33/70\n",
            "136/136 [==============================] - 0s 2ms/step - loss: 7053.8247 - root_mean_squared_error: 83.9870 - val_loss: 6868.3130 - val_root_mean_squared_error: 82.8753\n",
            "Epoch 34/70\n",
            "136/136 [==============================] - 0s 2ms/step - loss: 7054.4072 - root_mean_squared_error: 83.9905 - val_loss: 6858.3027 - val_root_mean_squared_error: 82.8149\n",
            "Epoch 35/70\n",
            "136/136 [==============================] - 0s 2ms/step - loss: 7053.6343 - root_mean_squared_error: 83.9859 - val_loss: 6856.8398 - val_root_mean_squared_error: 82.8060\n",
            "Epoch 36/70\n",
            "136/136 [==============================] - 0s 2ms/step - loss: 7054.3169 - root_mean_squared_error: 83.9900 - val_loss: 6855.1294 - val_root_mean_squared_error: 82.7957\n",
            "Epoch 37/70\n",
            "136/136 [==============================] - 0s 2ms/step - loss: 7054.1523 - root_mean_squared_error: 83.9890 - val_loss: 6858.8169 - val_root_mean_squared_error: 82.8180\n",
            "Epoch 38/70\n",
            "136/136 [==============================] - 0s 2ms/step - loss: 7053.8081 - root_mean_squared_error: 83.9870 - val_loss: 6871.2163 - val_root_mean_squared_error: 82.8928\n",
            "Epoch 39/70\n",
            "136/136 [==============================] - 0s 2ms/step - loss: 7053.3740 - root_mean_squared_error: 83.9844 - val_loss: 6874.2842 - val_root_mean_squared_error: 82.9113\n",
            "Epoch 40/70\n",
            "136/136 [==============================] - 0s 2ms/step - loss: 7052.9976 - root_mean_squared_error: 83.9821 - val_loss: 6853.1729 - val_root_mean_squared_error: 82.7839\n",
            "Epoch 41/70\n",
            "136/136 [==============================] - 0s 2ms/step - loss: 7052.1851 - root_mean_squared_error: 83.9773 - val_loss: 6866.7100 - val_root_mean_squared_error: 82.8656\n",
            "Epoch 42/70\n",
            "136/136 [==============================] - 0s 2ms/step - loss: 7053.9951 - root_mean_squared_error: 83.9881 - val_loss: 6863.1714 - val_root_mean_squared_error: 82.8443\n",
            "Epoch 43/70\n",
            "136/136 [==============================] - 0s 2ms/step - loss: 7053.7622 - root_mean_squared_error: 83.9867 - val_loss: 6857.1328 - val_root_mean_squared_error: 82.8078\n",
            "Epoch 44/70\n",
            "136/136 [==============================] - 0s 2ms/step - loss: 7053.8857 - root_mean_squared_error: 83.9874 - val_loss: 6855.2280 - val_root_mean_squared_error: 82.7963\n",
            "Epoch 45/70\n",
            "136/136 [==============================] - 0s 2ms/step - loss: 7052.0625 - root_mean_squared_error: 83.9766 - val_loss: 6852.8340 - val_root_mean_squared_error: 82.7818\n",
            "Epoch 46/70\n",
            "136/136 [==============================] - 0s 2ms/step - loss: 7052.7598 - root_mean_squared_error: 83.9807 - val_loss: 6871.0322 - val_root_mean_squared_error: 82.8917\n",
            "Epoch 47/70\n",
            "136/136 [==============================] - 0s 2ms/step - loss: 7052.6470 - root_mean_squared_error: 83.9800 - val_loss: 6857.2539 - val_root_mean_squared_error: 82.8085\n",
            "Epoch 48/70\n",
            "136/136 [==============================] - 0s 2ms/step - loss: 7049.5708 - root_mean_squared_error: 83.9617 - val_loss: 6883.8164 - val_root_mean_squared_error: 82.9688\n",
            "Epoch 49/70\n",
            "136/136 [==============================] - 0s 2ms/step - loss: 7053.8560 - root_mean_squared_error: 83.9872 - val_loss: 6860.9795 - val_root_mean_squared_error: 82.8310\n",
            "Epoch 50/70\n",
            "136/136 [==============================] - 0s 2ms/step - loss: 7053.6406 - root_mean_squared_error: 83.9860 - val_loss: 6854.3242 - val_root_mean_squared_error: 82.7908\n",
            "Epoch 51/70\n",
            "136/136 [==============================] - 0s 2ms/step - loss: 7054.1787 - root_mean_squared_error: 83.9892 - val_loss: 6856.4219 - val_root_mean_squared_error: 82.8035\n",
            "Epoch 52/70\n",
            "136/136 [==============================] - 0s 2ms/step - loss: 7053.1006 - root_mean_squared_error: 83.9827 - val_loss: 6871.3833 - val_root_mean_squared_error: 82.8938\n",
            "Epoch 53/70\n",
            "136/136 [==============================] - 0s 2ms/step - loss: 7052.3467 - root_mean_squared_error: 83.9782 - val_loss: 6858.0396 - val_root_mean_squared_error: 82.8133\n",
            "Epoch 54/70\n",
            "136/136 [==============================] - 0s 2ms/step - loss: 7053.5767 - root_mean_squared_error: 83.9856 - val_loss: 6858.7231 - val_root_mean_squared_error: 82.8174\n",
            "Epoch 55/70\n",
            "136/136 [==============================] - 0s 2ms/step - loss: 7052.8936 - root_mean_squared_error: 83.9815 - val_loss: 6861.6758 - val_root_mean_squared_error: 82.8352\n",
            "Epoch 56/70\n",
            "136/136 [==============================] - 0s 2ms/step - loss: 7054.2808 - root_mean_squared_error: 83.9898 - val_loss: 6860.1533 - val_root_mean_squared_error: 82.8260\n",
            "Epoch 57/70\n",
            "136/136 [==============================] - 0s 2ms/step - loss: 7053.9536 - root_mean_squared_error: 83.9878 - val_loss: 6869.2764 - val_root_mean_squared_error: 82.8811\n",
            "Epoch 58/70\n",
            "136/136 [==============================] - 0s 2ms/step - loss: 7052.1387 - root_mean_squared_error: 83.9770 - val_loss: 6879.2998 - val_root_mean_squared_error: 82.9415\n",
            "Epoch 59/70\n",
            "136/136 [==============================] - 0s 2ms/step - loss: 7053.0396 - root_mean_squared_error: 83.9824 - val_loss: 6851.8359 - val_root_mean_squared_error: 82.7758\n",
            "Epoch 60/70\n",
            "136/136 [==============================] - 0s 2ms/step - loss: 7054.0801 - root_mean_squared_error: 83.9886 - val_loss: 6864.0039 - val_root_mean_squared_error: 82.8493\n",
            "Epoch 61/70\n",
            "136/136 [==============================] - 0s 2ms/step - loss: 7053.5625 - root_mean_squared_error: 83.9855 - val_loss: 6857.3242 - val_root_mean_squared_error: 82.8090\n",
            "Epoch 62/70\n",
            "136/136 [==============================] - 0s 2ms/step - loss: 7053.4224 - root_mean_squared_error: 83.9847 - val_loss: 6855.5376 - val_root_mean_squared_error: 82.7982\n",
            "Epoch 63/70\n",
            "136/136 [==============================] - 0s 2ms/step - loss: 7053.7896 - root_mean_squared_error: 83.9868 - val_loss: 6868.0796 - val_root_mean_squared_error: 82.8739\n",
            "Epoch 64/70\n",
            "136/136 [==============================] - 0s 2ms/step - loss: 7052.7935 - root_mean_squared_error: 83.9809 - val_loss: 6854.1436 - val_root_mean_squared_error: 82.7898\n",
            "Epoch 65/70\n",
            "136/136 [==============================] - 0s 2ms/step - loss: 7054.0459 - root_mean_squared_error: 83.9884 - val_loss: 6857.6343 - val_root_mean_squared_error: 82.8108\n",
            "Epoch 66/70\n",
            "136/136 [==============================] - 0s 2ms/step - loss: 7053.6885 - root_mean_squared_error: 83.9862 - val_loss: 6855.4604 - val_root_mean_squared_error: 82.7977\n",
            "Epoch 67/70\n",
            "136/136 [==============================] - 0s 2ms/step - loss: 7054.0713 - root_mean_squared_error: 83.9885 - val_loss: 6854.0635 - val_root_mean_squared_error: 82.7893\n",
            "Epoch 68/70\n",
            "136/136 [==============================] - 0s 2ms/step - loss: 7053.1138 - root_mean_squared_error: 83.9828 - val_loss: 6868.8657 - val_root_mean_squared_error: 82.8786\n",
            "Epoch 69/70\n",
            "136/136 [==============================] - 0s 2ms/step - loss: 7054.2251 - root_mean_squared_error: 83.9894 - val_loss: 6862.9116 - val_root_mean_squared_error: 82.8427\n",
            "Epoch 70/70\n",
            "136/136 [==============================] - 0s 2ms/step - loss: 7053.4604 - root_mean_squared_error: 83.9849 - val_loss: 6859.4204 - val_root_mean_squared_error: 82.8216\n",
            "82.60372161865234\n"
          ]
        },
        {
          "output_type": "display_data",
          "data": {
            "image/png": "[encoded data removed]",
            "text/plain": [
              "<Figure size 432x288 with 1 Axes>"
            ]
          },
          "metadata": {
            "needs_background": "light"
          }
        }
      ]
    },
    {
      "cell_type": "markdown",
      "source": [
        "Después de barajar el conjunto de entrenamiento original, la función de pérdida para train y test se vuelve más cercano.\n",
        "\n",
        "Ejecuto las siguientes líneas de código para para evaluar el modelo con los datos de validación."
      ],
      "metadata": {
        "id": "KaJm76pyapmN"
      }
    },
    {
      "cell_type": "code",
      "source": [
        "x_test = test_df[my_feature]\n",
        "y_test = test_df[my_label]\n",
        "\n",
        "results = my_model.evaluate(x_test, y_test, batch_size=batch_size)"
      ],
      "metadata": {
        "colab": {
          "base_uri": "https://localhost:8080/"
        },
        "id": "azFiomObbAOY",
        "outputId": "8e810e57-68bb-45bd-a006-03da2b965c0a"
      },
      "execution_count": 37,
      "outputs": [
        {
          "output_type": "stream",
          "name": "stdout",
          "text": [
            "30/30 [==============================] - 0s 3ms/step - loss: 7010.5073 - root_mean_squared_error: 83.7288\n"
          ]
        }
      ]
    },
    {
      "cell_type": "markdown",
      "source": [
        "Si comparamos estos resultados con la última línea del código anterior se ve la semejanza de resultados. El RMSE es lo suficientemente similar, al igual que la función de pérdida."
      ],
      "metadata": {
        "id": "nhU_yjDabRtL"
      }
    }
  ]
}